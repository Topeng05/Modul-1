{
  "cells": [
    {
      "cell_type": "markdown",
      "metadata": {
        "id": "view-in-github",
        "colab_type": "text"
      },
      "source": [
        "<a href=\"https://colab.research.google.com/github/Topeng05/Modul-1/blob/main/Modul_1_220411100086.ipynb\" target=\"_parent\"><img src=\"https://colab.research.google.com/assets/colab-badge.svg\" alt=\"Open In Colab\"/></a>"
      ]
    },
    {
      "cell_type": "markdown",
      "source": [
        "#1 Konsep"
      ],
      "metadata": {
        "id": "nru8yI_E200c"
      }
    },
    {
      "cell_type": "markdown",
      "source": [
        "# 1.1 Materi\n",
        "Tulis ringkasan (1 sampai dengan 4 paragraf, jika memungkinkan berikan contoh dalam Python) tentang :\n",
        "1. Tipe Data\n",
        "\n",
        "- Tipe data, pada program python kita sering mendengar hal ini, bahkan sudah tidak asing lagi bagi pengguna python. Tipe data sendiri adalah sebuah memori yg ada pada komputer dan digunakan untuk menampung informasi yang menjadi karakteristik dari suatu data, baik itu dari sisi nilai maupun operasi.\n",
        "\n",
        "- Tipe data dalam python sendiri pun cukup beragam, diantaranya yakni boolean expression (True or False), string (\" \"), integer (untuk bilangan bulat), float (untuk angka yg memiliki koma misal 2.5), list ([ ]), dan juga tuple (( ))"
      ],
      "metadata": {
        "id": "OJBtuT1NyZXF"
      }
    },
    {
      "cell_type": "code",
      "source": [
        "#Contoh Tipe Data\n",
        "\n",
        "#Tipe Data Boolean\n",
        "print (type(True))\n",
        "#Tipe Data String\n",
        "print (type(\"Ali Syamsuddin\"))\n",
        "print (type('Trunojoyo Madura'))\n",
        "#Tipe Data Integer\n",
        "print (type(18))\n",
        "#Tipe Data Float\n",
        "print (type(86.5))\n",
        "#Tipe Data List\n",
        "print (type([1,3,5,7]))\n",
        "print (type([\"siji\", \"tellu\", \"limo\"]))\n",
        "#Tipe Data Tuple\n",
        "print (type((1,3,5,7)))\n",
        "print (type((\"siji\", \"tellu\", \"limo\")))"
      ],
      "metadata": {
        "id": "Py-CP4vaO-Fb",
        "colab": {
          "base_uri": "https://localhost:8080/"
        },
        "outputId": "2701b7e0-e56b-4e28-8e54-de5142b5f078"
      },
      "execution_count": null,
      "outputs": [
        {
          "output_type": "stream",
          "name": "stdout",
          "text": [
            "<class 'bool'>\n",
            "<class 'str'>\n",
            "<class 'str'>\n",
            "<class 'int'>\n",
            "<class 'float'>\n",
            "<class 'list'>\n",
            "<class 'list'>\n",
            "<class 'tuple'>\n",
            "<class 'tuple'>\n"
          ]
        }
      ]
    },
    {
      "cell_type": "markdown",
      "source": [
        "2. Algoritma (Definisi, Jenis-jenis algoritma, bagaimana menulis algoritma)\n",
        "\n",
        "- Definisi algoritma yakni sebuah kata yang berasal dari bahasa inggris yaitu \"algorithm\" memiliki makna kumpulan cara/langkah yang dipakai untuk menyelesaikan sebuah permasalahan dengan perencanaan yang sangat matang, berurutan, dan rapi.\n",
        "\n",
        "- Algoritma tak hanya dipakai untuk menyelesaikan masalah dalam komputer, namun lebih dari itu. Algoritma juga bisa dipakai untuk memecahkan permasalahan kita sehari-hari, terlebih masalah yang membutuhkan sebuah proses untuk menyelesaikannya. Maka dari itu algoritma sangat dibutuhkan.\n",
        "\n",
        "- Jenis algoritma terbagi menjadi 6 yakni Algoritma Rekursif, Algoritma Divide dan Conquer, Algoritma Dynamic Programming, Algoritma Greedy, Algoritma BruteForce dan yang terakhir Algoritma Backtraking\n",
        "\n",
        "- Cara menulis algoritma. Dalam pandangan sempitnya, algoritma tak harus dimulai dari sebuah codingan namun bisa dimulai dari sebuah kertas coret-coretan. Selanjutnya dalam pandangan luas cara menulis sebuah algoritma terbagi menjadi 3, yakni pertama menggunakan cara deskriptif yang terdiri dari 3 bagian (judul,deklarasi, deskripsi), yang kedua dengan cara pseudocode (pemrograman tingkat lanjut), dan yang ketiga kita bisa menggunakan sebuah flowchart.\n",
        "\n",
        "- Contoh algoritma yakni misal kita ingin mengetahui Luas sebuah persegi panjang dengan panjang 12 dan lebar 6. Cara pertama kita catat kembali bahwa p=12 dan l=6. Selanjutnya kita cari rumus Luas persegi panjang yakni L=pxl. Setelah itu kita eksekusi L=12x6=72."
      ],
      "metadata": {
        "id": "If5RLNmrPEvk"
      }
    },
    {
      "cell_type": "code",
      "source": [
        "#Menghitung Luas Persegi Panjang\n",
        "\n",
        "panjang=12\n",
        "lebar=6\n",
        "Luas=(panjang*lebar)\n",
        "print('Luasnya = ', Luas)\n",
        "print('ciee ketemu luasnya')"
      ],
      "metadata": {
        "id": "qeJmiLSzh-0D",
        "colab": {
          "base_uri": "https://localhost:8080/"
        },
        "outputId": "2013de12-80c4-4f83-8afd-0993fa8c9f49"
      },
      "execution_count": null,
      "outputs": [
        {
          "output_type": "stream",
          "name": "stdout",
          "text": [
            "Luasnya =  72\n",
            "ciee ketemu luasnya\n"
          ]
        }
      ]
    },
    {
      "cell_type": "markdown",
      "source": [
        "# 1.2 Algoritma-1\n",
        "Tuliskan algoritma (tiap tahap, diberikan nomor tahapan) untuk menyelesaikan Persamaan Matematika :\n",
        "$$ y = \\sum_{i=1}^n (i²+2i)\n",
        "$$\n",
        ", dimana n adalah inputan dari user"
      ],
      "metadata": {
        "id": "aVGZgnBjymSh"
      }
    },
    {
      "cell_type": "markdown",
      "source": [
        "Jawab:\n",
        "1. Mulai\n",
        "2. User meng input n yang bertipe integer\n",
        "3. Proses akan dimulai dari 0 (temp=0)\n",
        "4. $$ y = \\sum_{i=1}^n (i²+2i)\n",
        "$$\n",
        "5. Karena i bernilai 1 (i=i+1)\n",
        "6. Maka y=i²+2i dan akan di eksekusi sesuai banyaknya inputan n\n",
        "7. Hasil akhir keluar\n",
        "8. Selesai"
      ],
      "metadata": {
        "id": "GQ6A15NyVwBj"
      }
    },
    {
      "cell_type": "code",
      "source": [
        "n=int(input('Masukan n nya ngab : '))\n",
        "temp=0\n",
        "for i in range (n):\n",
        "    i=i+1\n",
        "    y=(i**2+2*i)\n",
        "    temp=temp+y\n",
        "    print (y)\n",
        "print ('hasil akhir = ' , temp)\n",
        "print ('ntaps ketemu :v')"
      ],
      "metadata": {
        "id": "a4FmaS2wYq6f",
        "colab": {
          "base_uri": "https://localhost:8080/"
        },
        "outputId": "2086e44f-eb1f-4768-93fb-c1d7c36218f3"
      },
      "execution_count": null,
      "outputs": [
        {
          "output_type": "stream",
          "name": "stdout",
          "text": [
            "Masukan n nya ngab : 5\n",
            "3\n",
            "8\n",
            "15\n",
            "24\n",
            "35\n",
            "hasil akhir =  85\n",
            "ntaps ketemu :v\n"
          ]
        }
      ]
    },
    {
      "cell_type": "markdown",
      "source": [
        "#1.3 Algoritma-2\n",
        "Tuliskan algoritma (tiap tahap, diberikan nomor tahapan) untuk permasalahan berikut ini :\n",
        "1. Terdapat (Diketahui) dua buah titik, yaitu (x1, y1) dan (x2, y2)\n",
        "2. Jika terdapat titik baru yang hanya diketahui nilai koordinat x nya, misal (x3, ...), maka cari nilai y3\n",
        "3. Petunjuk : Gunakan Persamaan Garis seperti yang ditunjukkan pada Gambar 1, dan m =\n",
        "∆y/∆x"
      ],
      "metadata": {
        "id": "1JdcNsWQ8cnL"
      }
    },
    {
      "cell_type": "markdown",
      "source": [
        "Jawab:\n",
        "1. Mulai\n",
        "2. Diketahui x1=0,y1=-2,x2=4,y2=2,dan x3=3\n",
        "3. Kita cari m (gradien) terlebih dahulu, rumus gradien yakni ∆y/∆x\n",
        "4. Setelah gradien ditemukan hasilnya, langkah selanjutnya kita mencari y3\n",
        "5. Rumus y3=m*(x3+(x2-x1)):(y2-y1)\n",
        "6. Hasil y3 ditemukan\n",
        "7. Selesai"
      ],
      "metadata": {
        "id": "SIp82pW2UToT"
      }
    },
    {
      "cell_type": "code",
      "source": [
        "x1 = 0\n",
        "y1 = -2\n",
        "x2 = 4\n",
        "y2 = 2\n",
        "x3 = 3\n",
        "#gradien = (∆y/∆x)\n",
        "gradien=((y2 - y1)/(x2 - x1))\n",
        "print('gradien = ',gradien)\n",
        "y3=gradien*(x3+(x2 - x1))/(y2 - y1)\n",
        "print ('y3 =',y3)\n",
        "print ('alhamdulillah ketemu ;v')"
      ],
      "metadata": {
        "id": "qF0Q-gw0LX9C",
        "colab": {
          "base_uri": "https://localhost:8080/"
        },
        "outputId": "84607a06-7410-4fca-a8a6-fbc95f901cfc"
      },
      "execution_count": null,
      "outputs": [
        {
          "output_type": "stream",
          "name": "stdout",
          "text": [
            "gradien =  1.0\n",
            "y3 = 1.75\n",
            "alhamdulillah ketemu ;v\n"
          ]
        }
      ]
    },
    {
      "cell_type": "markdown",
      "source": [
        "#1.4 Algoritma-3\n",
        "Tulis tahapan-tahapan (algoritma) untuk menampilkan sejumlah n bilangan ganjil, dimana n adalah inputan\n",
        "dari user, dan jumlahkan semua bilangan ganjil tersebut."
      ],
      "metadata": {
        "id": "onDrKxfgNc3K"
      }
    },
    {
      "cell_type": "markdown",
      "source": [
        "\n",
        "Jawab:\n",
        "1. Mulai\n",
        "2. Yang pertama kita membutuhkan inputan dari sebuah user, sebut saja n (bertipe integer) dan bernilai ganjil yakni dimulai dari angka 1 (n=1)\n",
        "3. n memasukan jumlah bilangan\n",
        "4. untuk menghasilkan bilangan ganjil, langkah selanjutnya kita tambahkan dengan 2 secara berulang (n=n+2)\n",
        "5. agar hasil penjumlahan semua bilangan ganjil benar maka harus dimulai dari 0 (temp=0)\n",
        "6. Outpun n keluar sesuai banyaknya inputan user beserta total keseluruhannya\n",
        "7. Selesai"
      ],
      "metadata": {
        "id": "OtWc2wEzQaQp"
      }
    },
    {
      "cell_type": "markdown",
      "source": [
        "#1.5 Algoritma - 4\n",
        "Tulis algoritma untuk menampilkan sejumlah bilangan dan total jumlah dari bilangan-bilangan tersebut,\n",
        "berdasarkan persamaan deret aritmatika.\n",
        "\n",
        "Un = a + (n − 1)b\n",
        "\n",
        "Sn = n/2 (2a + (n − 1)b)\n",
        "\n",
        "dimana\n",
        "Un : suku ke-n (n input dari user)\n",
        "\n",
        "a : suku awal(input dari user)\n",
        "\n",
        "b : beda(input dari user), and\n",
        "\n",
        "Sn : Total jumlah seluruh suku, mulai dari suku pertama sampai suku ke-n"
      ],
      "metadata": {
        "id": "oQ5RA5wFZhel"
      }
    },
    {
      "cell_type": "markdown",
      "source": [
        "Jawab:\n",
        "1. Mulai\n",
        "2. Karena ini deret aritmatika maka kita membutuhkan n,a,dan b dimana n,a,b inputan dari user dan bertipe integer\n",
        "3. Untuk i baris ke n misal n<10 maka untuk inputan n tidak boleh melebihi sepuluh\n",
        "4. Selanjutnya mencari suku ke n dengan cara a ditambah dengan b dan di counter dengan 1, contoh u1=a,u2=a+1b,u3=a+2b,...dst\n",
        "5. Setelah suku ke n ditemukan hasilnya, langkah selanjutnya kita mencari sn dengan cara menambahkan hasil dari semua suku (u1+u2+u3,...dst)\n",
        "6. Sn(total suku) didapatkan\n",
        "7. Selesai"
      ],
      "metadata": {
        "id": "ipfZ78MVpvEC"
      }
    },
    {
      "cell_type": "markdown",
      "source": [
        "#2 Implementasi"
      ],
      "metadata": {
        "id": "hAQb2-e2G-Pj"
      }
    },
    {
      "cell_type": "markdown",
      "source": [
        "#2.1 Program Bilangan Ganjil\n",
        "Konversi algoritma yang sudah ditulis sebelumnya dengan menggunakan bahasa Pemrograman Python.\n",
        "Contoh hasil eksekusi dapat dilihat di Gambar.2a or Gambar.2b :"
      ],
      "metadata": {
        "id": "a4aYd2SNHCM9"
      }
    },
    {
      "cell_type": "code",
      "source": [
        "n=1\n",
        "x=int(input('jumlah bilangan n:'))\n",
        "temp=0\n",
        "count=1\n",
        "for i in range (x):\n",
        "    temp=temp+n\n",
        "    print('Bilangan ke -',count,'=',n)\n",
        "    count = count+1\n",
        "    n=n+2\n",
        "print('total=' ,temp)\n",
        "print('wow ketemu awowkok')"
      ],
      "metadata": {
        "id": "gHUw_SqJOjwG",
        "outputId": "b8778654-7e75-4285-8d12-3f85dfef1e9a",
        "colab": {
          "base_uri": "https://localhost:8080/"
        }
      },
      "execution_count": null,
      "outputs": [
        {
          "output_type": "stream",
          "name": "stdout",
          "text": [
            "jumlah bilangan n:5\n",
            "Bilangan ke - 1 = 1\n",
            "Bilangan ke - 2 = 3\n",
            "Bilangan ke - 3 = 5\n",
            "Bilangan ke - 4 = 7\n",
            "Bilangan ke - 5 = 9\n",
            "total= 25\n",
            "wow ketemu awowkok\n"
          ]
        }
      ]
    },
    {
      "cell_type": "markdown",
      "source": [
        "#2.2 Program Deret Aritmatika\n",
        "Konversi algoritma yang sudah ditulis sebelumnya dengan menggunakan bahasa Pemrograman Python, seperti yang ditunjukkan pada Gambar 3a or Gambar3b."
      ],
      "metadata": {
        "id": "H7lvXQuPIzNt"
      }
    },
    {
      "cell_type": "code",
      "source": [
        "n = int(input('Masukan n nya bro: '))\n",
        "a = int(input('Masukan a nya ngab: '))\n",
        "b = int(input('Masukan b nya cuy: '))\n",
        "temp = 0\n",
        "count = 1\n",
        "for i in range(n):\n",
        "    if n < 10:\n",
        "        print('u-',count, '=' ,a)\n",
        "        temp = temp+a\n",
        "        count = count+1\n",
        "        a = a + b\n",
        "    else:\n",
        "        break\n",
        "print ('Sn nya =', temp)\n",
        "print ('Ketemu doang gak jadian')"
      ],
      "metadata": {
        "id": "jwFqGj4lpRz2",
        "colab": {
          "base_uri": "https://localhost:8080/"
        },
        "outputId": "283d020b-e6cb-42b9-a20c-9158d9044392"
      },
      "execution_count": null,
      "outputs": [
        {
          "output_type": "stream",
          "name": "stdout",
          "text": [
            "Masukan n nya bro: 5\n",
            "Masukan a nya ngab: 6\n",
            "Masukan b nya cuy: 7\n",
            "u- 1 = 6\n",
            "u- 2 = 13\n",
            "u- 3 = 20\n",
            "u- 4 = 27\n",
            "u- 5 = 34\n",
            "Sn nya = 100\n",
            "Ketemu doang gak jadian\n"
          ]
        }
      ]
    }
  ],
  "metadata": {
    "colab": {
      "collapsed_sections": [],
      "provenance": [],
      "include_colab_link": true
    },
    "kernelspec": {
      "display_name": "Python 3",
      "name": "python3"
    }
  },
  "nbformat": 4,
  "nbformat_minor": 0
}