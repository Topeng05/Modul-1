{
  "cells": [
    {
      "cell_type": "markdown",
      "metadata": {
        "id": "view-in-github",
        "colab_type": "text"
      },
      "source": [
        "<a href=\"https://colab.research.google.com/github/Topeng05/Modul-1/blob/main/Modul_1_Algoritma_dan_Code.ipynb\" target=\"_parent\"><img src=\"https://colab.research.google.com/assets/colab-badge.svg\" alt=\"Open In Colab\"/></a>"
      ]
    },
    {
      "cell_type": "markdown",
      "source": [
        "#1 Konsep"
      ],
      "metadata": {
        "id": "nru8yI_E200c"
      }
    },
    {
      "cell_type": "markdown",
      "source": [
        "# 1.1 Materi\n",
        "Tulis ringkasan (1 sampai dengan 4 paragraf, jika memungkinkan berikan contoh dalam Python) tentang :\n",
        "1. Tipe Data\n",
        "\n",
        "- Tipe data, pada program python kita sering mendengar hal ini, bahkan sudah tidak asing lagi bagi pengguna python. Tipe data sendiri adalah sebuah memori yg ada pada komputer dan digunakan untuk menampung informasi yang menjadi karakteristik dari suatu data, baik itu dari sisi nilai maupun operasi.\n",
        "\n",
        "- Tipe data dalam python sendiri pun cukup beragam, diantaranya yakni boolean expression (True or False), string (\" \"), integer (untuk bilangan bulat), float (untuk angka yg memiliki koma misal 2.5), list ([ ]), dan juga tuple (( ))"
      ],
      "metadata": {
        "id": "OJBtuT1NyZXF"
      }
    },
    {
      "cell_type": "code",
      "source": [
        "#Contoh Tipe Data\n",
        "\n",
        "#Tipe Data Boolean\n",
        "print (type(True))\n",
        "#Tipe Data String\n",
        "print (type(\"Ali Syamsuddin\"))\n",
        "print (type('Trunojoyo Madura'))\n",
        "#Tipe Data Integer\n",
        "print (type(18))\n",
        "#Tipe Data Float\n",
        "print (type(86.5))\n",
        "#Tipe Data List\n",
        "print (type([1,3,5,7]))\n",
        "print (type([\"siji\", \"tellu\", \"limo\"]))\n",
        "#Tipe Data Tuple\n",
        "print (type((1,3,5,7)))\n",
        "print (type((\"siji\", \"tellu\", \"limo\")))"
      ],
      "metadata": {
        "id": "Py-CP4vaO-Fb"
      },
      "execution_count": null,
      "outputs": []
    },
    {
      "cell_type": "markdown",
      "source": [
        "2. Algoritma (Definisi, Jenis-jenis algoritma, bagaimana menulis algoritma)\n",
        "\n",
        "- Definisi algoritma yakni sebuah kata yang berasal dari bahasa inggris yaitu \"algorithm\" memiliki makna kumpulan cara/langkah yang dipakai untuk menyelesaikan sebuah permasalahan dengan perencanaan yang sangat matang, berurutan, dan rapi.\n",
        "\n",
        "- Algoritma tak hanya dipakai untuk menyelesaikan masalah dalam komputer, namun lebih dari itu. Algoritma juga bisa dipakai untuk memecahkan permasalahan kita sehari-hari, terlebih masalah yang membutuhkan sebuah proses untuk menyelesaikannya. Maka dari itu algoritma sangat dibutuhkan.\n",
        "\n",
        "- Jenis algoritma terbagi menjadi 6 yakni Algoritma Rekursif, Algoritma Divide dan Conquer, Algoritma Dynamic Programming, Algoritma Greedy, Algoritma BruteForce dan yang terakhir Algoritma Backtraking\n",
        "\n",
        "- Cara menulis algoritma. Dalam pandangan sempitnya, algoritma tak harus dimulai dari sebuah codingan namun bisa dimulai dari sebuah kertas coret-coretan. Selanjutnya dalam pandangan luas cara menulis sebuah algoritma terbagi menjadi 3, yakni pertama menggunakan cara deskriptif yang terdiri dari 3 bagian (judul,deklarasi, deskripsi), yang kedua dengan cara pseudocode (pemrograman tingkat lanjut), dan yang ketiga kita bisa menggunakan sebuah flowchart.\n",
        "\n",
        "- Contoh algoritma yakni misal kita ingin mengetahui Luas sebuah persegi panjang dengan panjang 12 dan lebar 6. Cara pertama kita catat kembali bahwa p=12 dan l=6. Selanjutnya kita cari rumus Luas persegi panjang yakni L=pxl. Setelah itu kita eksekusi L=12x6=72."
      ],
      "metadata": {
        "id": "If5RLNmrPEvk"
      }
    },
    {
      "cell_type": "code",
      "source": [
        "#Menghitung Luas Persegi Panjang\n",
        "\n",
        "panjang=12\n",
        "lebar=6\n",
        "Luas=(panjang*lebar)\n",
        "print('Luasnya = ', Luas)\n",
        "print('ciee ketemu luasnya')"
      ],
      "metadata": {
        "id": "qeJmiLSzh-0D"
      },
      "execution_count": null,
      "outputs": []
    },
    {
      "cell_type": "markdown",
      "source": [
        "# 1.2 Algoritma-1\n",
        "Tuliskan algoritma (tiap tahap, diberikan nomor tahapan) untuk menyelesaikan Persamaan Matematika :\n",
        "$$ y = \\sum_{i=1}^n (i²+2i)\n",
        "$$\n",
        ", dimana n adalah inputan dari user"
      ],
      "metadata": {
        "id": "aVGZgnBjymSh"
      }
    },
    {
      "cell_type": "code",
      "source": [
        "\n",
        "n=int(input('Masukan n nya ngab : '))\n",
        "temp=0\n",
        "for i in range (n):\n",
        "    i=i+1\n",
        "    y=(i**2+2*i)\n",
        "    temp=temp+y\n",
        "    print (y)\n",
        "print ('hasil akhir = ' , temp)\n",
        "print ('ntaps ketemu :v')"
      ],
      "metadata": {
        "id": "7zBeRUiM35SS"
      },
      "execution_count": null,
      "outputs": []
    },
    {
      "cell_type": "markdown",
      "source": [
        "#1.3 Algoritma-2\n",
        "Tuliskan algoritma (tiap tahap, diberikan nomor tahapan) untuk permasalahan berikut ini :\n",
        "1. Terdapat (Diketahui) dua buah titik, yaitu (x1, y1) dan (x2, y2)\n",
        "2. Jika terdapat titik baru yang hanya diketahui nilai koordinat x nya, misal (x3, ...), maka cari nilai y3\n",
        "3. Petunjuk : Gunakan Persamaan Garis seperti yang ditunjukkan pada Gambar 1, dan m =\n",
        "∆y\n",
        "∆x"
      ],
      "metadata": {
        "id": "1JdcNsWQ8cnL"
      }
    }
  ],
  "metadata": {
    "colab": {
      "collapsed_sections": [],
      "provenance": [],
      "include_colab_link": true
    },
    "kernelspec": {
      "display_name": "Python 3",
      "name": "python3"
    }
  },
  "nbformat": 4,
  "nbformat_minor": 0
}