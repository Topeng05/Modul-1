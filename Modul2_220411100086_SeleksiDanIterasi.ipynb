{
  "nbformat": 4,
  "nbformat_minor": 0,
  "metadata": {
    "colab": {
      "provenance": [],
      "collapsed_sections": [],
      "authorship_tag": "ABX9TyNWmCy0DLAhcH1vvCK9gjI/",
      "include_colab_link": true
    },
    "kernelspec": {
      "name": "python3",
      "display_name": "Python 3"
    },
    "language_info": {
      "name": "python"
    }
  },
  "cells": [
    {
      "cell_type": "markdown",
      "metadata": {
        "id": "view-in-github",
        "colab_type": "text"
      },
      "source": [
        "<a href=\"https://colab.research.google.com/github/Topeng05/Modul-1/blob/main/Modul2_220411100086_SeleksiDanIterasi.ipynb\" target=\"_parent\"><img src=\"https://colab.research.google.com/assets/colab-badge.svg\" alt=\"Open In Colab\"/></a>"
      ]
    },
    {
      "cell_type": "markdown",
      "source": [
        "#1 Konsep Seleksi dan Iterasi"
      ],
      "metadata": {
        "id": "sKwD7D4E7kLF"
      }
    },
    {
      "cell_type": "markdown",
      "source": [
        "Tulis ringkasan atau penjelasan hal-hal berikut, dengan kata-kata kalian sendiri :\n",
        "1. Terdapat tiga syntax percabangan di dalam Python, yaitu if, if else, dan if elif .. else. Jelaskan\n",
        "perbedaan ketiganya, dan tuliskan contoh code masing-masing syntax."
      ],
      "metadata": {
        "id": "wwHtA_2denBR"
      }
    },
    {
      "cell_type": "markdown",
      "source": [
        "Jawab:\n",
        "- Fungsi percabangan if adalah syntax ini hanya menjalankan tipe data yang bernilai benar (True) dan jika bernilai salah (False) maka tidak akan di eksekusi.\n",
        "- Fungsi percabangan if-else, berbeda dengan fungsi pertama, jika tipe data dalam if bernilai salah (False) maka akan dilanjutkan ke perintah selanjutnya yakni else, sebaliknya jika fungsi if sudah benar (True) maka perintah else tidak akan dijalankan.\n",
        "- Fungsi percabangan if-elif-else digunakan saat kita berada di dalam 2 pilihan diantara if dan else, misalkan cabang sebelumnya bernilai salah (False) maka akan dijalankan perintah elif."
      ],
      "metadata": {
        "id": "--0MgTaPInt3"
      }
    },
    {
      "cell_type": "code",
      "source": [
        "#Contoh Fungsi Percabangan if\n",
        "Bil = int(input('Masukkan bilangan : '))\n",
        "\n",
        "if Bil%2==0:\n",
        "       print ('Ini adalah bilangan genap')"
      ],
      "metadata": {
        "id": "HmND3T8QNjkx",
        "colab": {
          "base_uri": "https://localhost:8080/"
        },
        "outputId": "dde8bed0-5185-439f-def1-6b909a6170dd"
      },
      "execution_count": null,
      "outputs": [
        {
          "output_type": "stream",
          "name": "stdout",
          "text": [
            "Masukkan bilangan : 4\n",
            "Ini adalah bilangan genap\n"
          ]
        }
      ]
    },
    {
      "cell_type": "code",
      "source": [
        "#Contoh Fungsi Percabangan if-else\n",
        "nilai=float(input('Masukkan nilai : '))\n",
        "if nilai < 60:\n",
        "  print('Maaf kamu tidak lulus')\n",
        "else:\n",
        "  print('Selamat ya kamu lulus')"
      ],
      "metadata": {
        "id": "XyReanB4P8sF",
        "colab": {
          "base_uri": "https://localhost:8080/"
        },
        "outputId": "4b98ba04-1e68-4c20-966d-fc890c49c598"
      },
      "execution_count": null,
      "outputs": [
        {
          "output_type": "stream",
          "name": "stdout",
          "text": [
            "Masukkan nilai : 60\n",
            "Selamat ya kamu lulus\n"
          ]
        }
      ]
    },
    {
      "cell_type": "code",
      "source": [
        "#Contoh Fungsi Percabangan if-elif-else\n",
        "n = float(input('Masukkan nilaimu : '))\n",
        "if n >= 90:\n",
        "  print('Wiihh selamat dapet nilai A')\n",
        "elif n >= 80:\n",
        "  print('Keren kamu dapet nilai B')\n",
        "elif n >= 60:\n",
        "  print('Semangat kamu dapet C')\n",
        "elif n >= 40:\n",
        "  print('Yaah maaf kamu dapet D')\n",
        "else:\n",
        "  print('Belajar lagi dong nilaimu E')"
      ],
      "metadata": {
        "id": "bTjjr8CURnqY",
        "colab": {
          "base_uri": "https://localhost:8080/"
        },
        "outputId": "e8440c47-9281-4a3e-b449-7b33a8c7aaf4"
      },
      "execution_count": null,
      "outputs": [
        {
          "output_type": "stream",
          "name": "stdout",
          "text": [
            "Masukkan nilaimu : 87.5\n",
            "Keren kamu dapet nilai B\n"
          ]
        }
      ]
    },
    {
      "cell_type": "markdown",
      "source": [
        "2. Terdapat dua syntax perulangan di dalam Python, yaitu for dan while. Jelaskan perbedaan keduanya,\n",
        "dan tuliskan contoh code masing-masing syntax."
      ],
      "metadata": {
        "id": "5DgEP6ubIBZC"
      }
    },
    {
      "cell_type": "markdown",
      "source": [
        "Jawab:\n",
        "- Perulangan for digunakan untuk mengulangi algoritma yang sudah kita ketahui berapa banyak perulangan tersebut akan terjadi.\n",
        "- Perulangan while digunakan untuk mengulangi algoritma yang tidak pasti/belum diketahui berapa banyak perulangan yang akan terjadi nantinya."
      ],
      "metadata": {
        "id": "RY7sOp8qkmYe"
      }
    },
    {
      "cell_type": "code",
      "source": [
        "#Contoh Perulangan For\n",
        "bil=int(input('Masukkan banyak angka : '))\n",
        "for i in range(bil):\n",
        "        print (i+1)\n",
        "print ('Done :v')"
      ],
      "metadata": {
        "id": "mIKRckBRlO95",
        "colab": {
          "base_uri": "https://localhost:8080/"
        },
        "outputId": "1d1ea158-6b22-47ad-f802-caa4007d8df0"
      },
      "execution_count": null,
      "outputs": [
        {
          "output_type": "stream",
          "name": "stdout",
          "text": [
            "Masukkan banyak angka : 5\n",
            "1\n",
            "2\n",
            "3\n",
            "4\n",
            "5\n",
            "Done :v\n"
          ]
        }
      ]
    },
    {
      "cell_type": "code",
      "source": [
        "#Contoh Perulangan While\n",
        "z=int(input('Masukkan banyak angka : '))\n",
        "bil=2\n",
        "count=1\n",
        "while count <=z :\n",
        "    if bil%2==0:\n",
        "        print('bilangan genap' ,count, '=' , bil)\n",
        "        count=count+1\n",
        "    bil=bil+1\n",
        "print('program selesai')"
      ],
      "metadata": {
        "id": "3RccraUJmql5",
        "colab": {
          "base_uri": "https://localhost:8080/"
        },
        "outputId": "9a99b26d-bea0-4b1e-be5a-9d7d839528a5"
      },
      "execution_count": null,
      "outputs": [
        {
          "output_type": "stream",
          "name": "stdout",
          "text": [
            "Masukkan banyak angka : 5\n",
            "bilangan genap 1 = 2\n",
            "bilangan genap 2 = 4\n",
            "bilangan genap 3 = 6\n",
            "bilangan genap 4 = 8\n",
            "bilangan genap 5 = 10\n",
            "program selesai\n"
          ]
        }
      ]
    },
    {
      "cell_type": "markdown",
      "source": [
        "#2 Implementasi"
      ],
      "metadata": {
        "id": "ojf4RwzEexUr"
      }
    },
    {
      "cell_type": "markdown",
      "source": [
        "#2.1 Bilangan Prima\n",
        "Buatlah flowchart (tidak harus menggunakan flowgorithm) dari penentuan apakah suatu bilangan (inputan\n",
        "dari user) adalah bilangan prima. Implementasikan flowchart yang sudah dibuat (bukan generate dari\n",
        "flowgorithm) dengan menggunakan bahasa Python, sehingga menghasilkan output seperti contoh-contoh\n",
        "yang terdapat pada Gambar 1."
      ],
      "metadata": {
        "id": "4sCtkdNHe6gq"
      }
    },
    {
      "cell_type": "markdown",
      "source": [
        "![image.png](data:image/png;base64,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)"
      ],
      "metadata": {
        "id": "-31QFoX7wvIf"
      }
    },
    {
      "cell_type": "code",
      "source": [
        "BilPrim=int(input('Masukkan bilangan: '))\n",
        "counter=1\n",
        "for i in range(1,BilPrim):\n",
        "    if (BilPrim % i)==0:\n",
        "        counter=counter+1\n",
        "if counter==2:\n",
        "    print(BilPrim,'adalah bilangan prima')\n",
        "else:\n",
        "    print(BilPrim,'bukan Prima, memiliki jumlah faktor pembagi',counter)"
      ],
      "metadata": {
        "id": "GkVgvOMd8g7K",
        "colab": {
          "base_uri": "https://localhost:8080/"
        },
        "outputId": "86b59e65-5f82-4714-b907-537053b40df4"
      },
      "execution_count": null,
      "outputs": [
        {
          "output_type": "stream",
          "name": "stdout",
          "text": [
            "Masukkan bilangan: 12\n",
            "12 bukan Prima, memiliki jumlah faktor pembagi 6\n"
          ]
        }
      ]
    },
    {
      "cell_type": "markdown",
      "source": [
        "#2.2 Segitiga siku-siku\n",
        "Buatlah code untuk menentukan apakah suatu segitiga (diketahui adalah panjang sisi dari segita), merupakan\n",
        "suatu segitiga siku-siku, dengan ketentuan sebagai berikut :\n",
        "1. Terdapat tiga inputan, yaitu sisi-sisi segitiga (sisi pertama, sisi kedua, dan sisi ketiga)\n",
        "2. Segitiga siku-siku merupakan segitiga dimana kuadrat sisi miring merupakan penjumlahan dari kuadrat\n",
        "dari masing-masing sisi siku-siku, yaitu c\n",
        "2 = a\n",
        "2 +b\n",
        "2\n",
        "(c adalah sisi miring, a dan b merupakan sisi siku-\n",
        "siku). Contoh ilustrasi segitiga siku-siku ini dapat dilihat pada Gambar 2\n",
        "3. Contoh inputan dan Output dari code ini dapat dilihat pada Gambar 3"
      ],
      "metadata": {
        "id": "wKT83cuIfJ_8"
      }
    },
    {
      "cell_type": "code",
      "source": [
        "a=int(input('Panjang sisi pertama dari segitiga = '))\n",
        "b=int(input('Panjang sisi kedua dari segitiga = '))\n",
        "c=int(input('Panjang sisi ketiga dari segitiga = '))\n",
        "x=(c**2)\n",
        "y=(a**2)+(b**2)\n",
        "if x==y :\n",
        "    print('Segitiga siku-siku dengan sisi siku-siku adalah',b,'dan',a,'serta sisi miring adalah',c)\n",
        "else :\n",
        "    print('Sisi {',a,',',b,',',c,'} Bukan segitiga siku-siku')"
      ],
      "metadata": {
        "id": "7WURoxWKHW4C",
        "colab": {
          "base_uri": "https://localhost:8080/"
        },
        "outputId": "a563ef7e-57e8-4d76-ed3c-a47cc4331196"
      },
      "execution_count": null,
      "outputs": [
        {
          "output_type": "stream",
          "name": "stdout",
          "text": [
            "Panjang sisi pertama dari segitiga = 12\n",
            "Panjang sisi kedua dari segitiga = 9\n",
            "Panjang sisi ketiga dari segitiga = 15\n",
            "Segitiga siku-siku dengan sisi siku-siku adalah 9 dan 12 serta sisi miring adalah 15\n"
          ]
        }
      ]
    },
    {
      "cell_type": "markdown",
      "source": [
        "#2.3 Iterasi di dalam Iterasi\n",
        "Buatlah code untuk menampilkan penomoran daftar isi, seperti contoh pada 4. Dengan inputan dari user\n",
        "berupa jumlah bab dan sub bab dalam setiap bab. [Hint : Buatlah iterasi di dalam iterasi]"
      ],
      "metadata": {
        "id": "UelRcDk7fZp1"
      }
    },
    {
      "cell_type": "code",
      "source": [
        "x=int(input('Masukkan jumlah bab = '))\n",
        "z=int(input('Masukkan jumlah sub bab di setiap bab = '))\n",
        "for i in range (x):\n",
        "    ch=0\n",
        "    for ch in range (z):    \n",
        "        print(i+1,('.'),ch+1)"
      ],
      "metadata": {
        "id": "fX8_hcdVqj2a",
        "colab": {
          "base_uri": "https://localhost:8080/"
        },
        "outputId": "4a17ab65-9f33-4e9e-ac1f-47ca5e2fd5e0"
      },
      "execution_count": null,
      "outputs": [
        {
          "output_type": "stream",
          "name": "stdout",
          "text": [
            "Masukkan jumlah bab = 4\n",
            "Masukkan jumlah sub bab di setiap bab = 3\n",
            "1 . 1\n",
            "1 . 2\n",
            "1 . 3\n",
            "2 . 1\n",
            "2 . 2\n",
            "2 . 3\n",
            "3 . 1\n",
            "3 . 2\n",
            "3 . 3\n",
            "4 . 1\n",
            "4 . 2\n",
            "4 . 3\n"
          ]
        }
      ]
    },
    {
      "cell_type": "markdown",
      "source": [
        "#2.4 Menu\n",
        "Buatlah code untuk membuat menu, dimana setiap menu melakukan operasi yang berbeda :\n",
        "Menu :\n",
        "• Tekan 1 untuk operasi perhitungan luas lingkaran (input adalah jari-jari)\n",
        "• Tekan 2 untuk operasi perhitungan luas persegi panjang (input adalah panjang dan lebar)\n",
        "• Tekan 3 untuk operasi perhitungan luas segitiga (input adalah alas dan tinggi)\n",
        "Tambahkan pilihan bagi user, apakah ingin mengulangi operasi kembali ataukah tidak, jika ‘y’, maka tampilkan menu kembali dan lakukan operasi sesuai pilihan dari user. Jika user memilih ‘t’ maka operasi\n",
        "berhenti. Contoh output dari code tersebut dapat dilihat pada Gambar 5"
      ],
      "metadata": {
        "id": "H2rg67n4fhm2"
      }
    },
    {
      "cell_type": "code",
      "source": [
        "stop=True\n",
        "while stop:\n",
        "    print('Menu')\n",
        "    print('Tekan 1 untuk operasi perhitungan luas lingkaran (input adalah jari-jari)')\n",
        "    print('Tekan 2 untuk operasi perhitungan luas persegi panjang (input adalah panjang dan lebar)')\n",
        "    print('Tekan 3 untuk operasi perhitungan luas segitiga (input adalah alas dan tinggi)')\n",
        "    pilihmenu=int(input('Masukkan pilihan anda = '))\n",
        "    if pilihmenu==1:\n",
        "        r=int(input('Masukkan jari-jari = '))\n",
        "        phi=22/7\n",
        "        luas=(phi*(r**2))\n",
        "        print('Luas lingkaran = ',luas)\n",
        "    elif pilihmenu==2:\n",
        "        p=int(input('Masukkan panjang = '))\n",
        "        l=int(input('Masukkan lebar = '))\n",
        "        luas=(p*l)\n",
        "        print('Luas persegi panjang = ',luas)\n",
        "    else:\n",
        "        a=int(input('Masukkan alas = '))\n",
        "        t=int(input('Masukkan tinggi = '))\n",
        "        luas=(a*t)/2\n",
        "        print('Luas segitiga = ',luas)\n",
        "    done=input('Ingin mengulangi operasi kembali (y/t) ?')\n",
        "    if done=='t':\n",
        "        stop=False"
      ],
      "metadata": {
        "id": "kNAYTUJWVbJg",
        "colab": {
          "base_uri": "https://localhost:8080/"
        },
        "outputId": "47ba5300-204a-4a5b-a027-e5105574dca0"
      },
      "execution_count": null,
      "outputs": [
        {
          "name": "stdout",
          "output_type": "stream",
          "text": [
            "Menu\n",
            "Tekan 1 untuk operasi perhitungan luas lingkaran (input adalah jari-jari)\n",
            "Tekan 2 untuk operasi perhitungan luas persegi panjang (input adalah panjang dan lebar)\n",
            "Tekan 3 untuk operasi perhitungan luas segitiga (input adalah alas dan tinggi)\n",
            "Masukkan pilihan anda = 1\n",
            "Masukkan jari-jari = 7\n",
            "Luas lingkaran =  154.0\n",
            "Ingin mengulangi operasi kembali (y/t) ?y\n",
            "Menu\n",
            "Tekan 1 untuk operasi perhitungan luas lingkaran (input adalah jari-jari)\n",
            "Tekan 2 untuk operasi perhitungan luas persegi panjang (input adalah panjang dan lebar)\n",
            "Tekan 3 untuk operasi perhitungan luas segitiga (input adalah alas dan tinggi)\n",
            "Masukkan pilihan anda = 2\n",
            "Masukkan panjang = 10\n",
            "Masukkan lebar = 4\n",
            "Luas persegi panjang =  40\n",
            "Ingin mengulangi operasi kembali (y/t) ?y\n",
            "Menu\n",
            "Tekan 1 untuk operasi perhitungan luas lingkaran (input adalah jari-jari)\n",
            "Tekan 2 untuk operasi perhitungan luas persegi panjang (input adalah panjang dan lebar)\n",
            "Tekan 3 untuk operasi perhitungan luas segitiga (input adalah alas dan tinggi)\n",
            "Masukkan pilihan anda = 3\n",
            "Masukkan alas = 12\n",
            "Masukkan tinggi = 9\n",
            "Luas segitiga =  54.0\n",
            "Ingin mengulangi operasi kembali (y/t) ?t\n"
          ]
        }
      ]
    }
  ]
}